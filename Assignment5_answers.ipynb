{
  "nbformat": 4,
  "nbformat_minor": 0,
  "metadata": {
    "colab": {
      "provenance": []
    },
    "kernelspec": {
      "name": "python3",
      "display_name": "Python 3"
    },
    "language_info": {
      "name": "python"
    }
  },
  "cells": [
    {
      "cell_type": "code",
      "source": [
        "#question 1\n",
        "def convert_to_2d_array(original, m, n):\n",
        "    if m * n != len(original):\n",
        "        return []  # Return an empty 2D array if it is impossible\n",
        "\n",
        "    result = []\n",
        "    for i in range(0, len(original), n):\n",
        "        result.append(original[i:i + n])\n",
        "\n",
        "    return result\n",
        "\n",
        "# Example usage:\n",
        "original = [1, 2, 3, 4]\n",
        "m = 2\n",
        "n = 2\n",
        "result = convert_to_2d_array(original, m, n)\n",
        "print(result)\n",
        "\n",
        "#TC - O(m*n)\n",
        "#SC - O(m+n)"
      ],
      "metadata": {
        "colab": {
          "base_uri": "https://localhost:8080/"
        },
        "id": "HRGuFWU0r5D5",
        "outputId": "fc861ab1-3426-46d0-8eab-dd8a68af243c"
      },
      "execution_count": null,
      "outputs": [
        {
          "output_type": "stream",
          "name": "stdout",
          "text": [
            "[[1, 2], [3, 4]]\n"
          ]
        }
      ]
    },
    {
      "cell_type": "code",
      "source": [
        "#question 2\n",
        "def arrange_coins(n):\n",
        "    i = 1  # Start with the first row\n",
        "    while n >= i:\n",
        "        n -= i\n",
        "        i += 1\n",
        "\n",
        "    return i - 1\n",
        "\n",
        "# Example usage:\n",
        "n = 5\n",
        "\n",
        "result = arrange_coins(n)\n",
        "print(result)\n",
        "\n",
        "#TC - O(sqrt(n))  ------when n = 9, sqrt(n)=3 ie the loop runs for 3 iterations (1, 2, 3).here n=5 so sqrt(5) = 2 so output here is 2\n",
        "#SC - O(1)"
      ],
      "metadata": {
        "id": "npbiPFjBsDWU",
        "colab": {
          "base_uri": "https://localhost:8080/"
        },
        "outputId": "2c50af36-1c32-4ad5-a7e9-7a12152c86b6"
      },
      "execution_count": 3,
      "outputs": [
        {
          "output_type": "stream",
          "name": "stdout",
          "text": [
            "2\n"
          ]
        }
      ]
    },
    {
      "cell_type": "code",
      "source": [
        "#question 3\n",
        "def sorted_squares(nums):\n",
        "    squared_nums = [num * num for num in nums]  # Square each number\n",
        "    #squared_nums = [num**2 for num in nums]\n",
        "\n",
        "    squared_nums.sort()  # Sort the squared numbers in non-decreasing order\n",
        "    \n",
        "    return squared_nums\n",
        "\n",
        "\n",
        "# Example usage:\n",
        "nums = [-4, -1, 0, 3, 10]\n",
        "\n",
        "result = sorted_squares(nums)\n",
        "print(result)\n",
        "\n",
        "#TC - O(nlogn)----sorting\n",
        "#SC - O(n)"
      ],
      "metadata": {
        "colab": {
          "base_uri": "https://localhost:8080/"
        },
        "id": "Mazoz4JIt0-1",
        "outputId": "f35459bf-1224-4ab8-f542-21084824dcaf"
      },
      "execution_count": 4,
      "outputs": [
        {
          "output_type": "stream",
          "name": "stdout",
          "text": [
            "[0, 1, 9, 16, 100]\n"
          ]
        }
      ]
    },
    {
      "cell_type": "code",
      "source": [
        "#question 4\n",
        "def find_disinct_elements(nums1, nums2):\n",
        "    set1 = set(nums1)\n",
        "    set2 = set(nums2)\n",
        "\n",
        "    distinct_nums1 = list(set1 - set2)\n",
        "    distinct_nums2 = list(set2 - set1)\n",
        "\n",
        "    return [distinct_nums1, distinct_nums2]\n",
        "\n",
        "# Example usage:\n",
        "nums1 = [1, 2, 3]\n",
        "nums2 = [2, 4, 6]\n",
        "\n",
        "result = find_disinct_elements(nums1, nums2)\n",
        "print(result)\n",
        "\n",
        "#TC - O(m+n)------combnining num1,num2 to find distinct\n",
        "#SC - O(m+n)\n"
      ],
      "metadata": {
        "colab": {
          "base_uri": "https://localhost:8080/"
        },
        "id": "5Dyb4Bs-t_mx",
        "outputId": "7d4bea63-294b-4221-c2c1-129bcc4af424"
      },
      "execution_count": 5,
      "outputs": [
        {
          "output_type": "stream",
          "name": "stdout",
          "text": [
            "[[1, 3], [4, 6]]\n"
          ]
        }
      ]
    },
    {
      "cell_type": "code",
      "source": [
        "#question 5\n",
        "def find_distance_value(arr1, arr2, d):\n",
        "  \n",
        "    distance = 0\n",
        "    for num1 in arr1:\n",
        "        found = False\n",
        "\n",
        "        for num2 in arr2:\n",
        "            if abs(num1 - num2) <= d:\n",
        "                found = True\n",
        "                break\n",
        "\n",
        "        if not found:\n",
        "            distance += 1\n",
        "\n",
        "    return distance\n",
        "\n",
        "# Example usage:\n",
        "arr1 = [4, 5, 8]\n",
        "arr2 = [10, 9, 1, 8]\n",
        "d = 2\n",
        "distance_value = find_distance_value(arr1, arr2, d)\n",
        "print(distance_value)\n",
        "\n",
        "#TC - O(m*n)\n",
        "#SC - O(1) "
      ],
      "metadata": {
        "colab": {
          "base_uri": "https://localhost:8080/"
        },
        "id": "A04wipfqurfu",
        "outputId": "7719b3f8-4e41-483a-e4bd-9fb958dab4c6"
      },
      "execution_count": 6,
      "outputs": [
        {
          "output_type": "stream",
          "name": "stdout",
          "text": [
            "2\n"
          ]
        }
      ]
    },
    {
      "cell_type": "code",
      "source": [
        "#question 6\n",
        "def findDuplicates(nums):\n",
        "    duplicates = []\n",
        "    for num in nums:\n",
        "        index = abs(num) - 1\n",
        "        if nums[index] < 0:\n",
        "            duplicates.append(abs(num))\n",
        "        else:\n",
        "            nums[index] = -nums[index]\n",
        "    return duplicates\n",
        "\n",
        "# Example usage:\n",
        "nums = [4, 3, 2, 7, 8, 2, 3, 1]\n",
        "result = findDuplicates(nums)\n",
        "print(result)\n",
        "\n",
        "#TC - O(n)\n",
        "#SC - O(1)"
      ],
      "metadata": {
        "colab": {
          "base_uri": "https://localhost:8080/"
        },
        "id": "Z9SW7A_swep2",
        "outputId": "5695528b-876c-4acd-fec4-50efb7aae599"
      },
      "execution_count": 7,
      "outputs": [
        {
          "output_type": "stream",
          "name": "stdout",
          "text": [
            "[2, 3]\n"
          ]
        }
      ]
    },
    {
      "cell_type": "code",
      "source": [
        "#question 7\n",
        "def findMin(nums):\n",
        "    left = 0\n",
        "    right = len(nums) - 1\n",
        "\n",
        "    while left < right:\n",
        "        mid = left + (right - left) // 2\n",
        "\n",
        "        # Check if the mid element is greater than the rightmost element\n",
        "        if nums[mid] > nums[right]:\n",
        "            left = mid + 1\n",
        "        else:\n",
        "            right = mid\n",
        "\n",
        "    # At the end, left and right will point to the minimum element\n",
        "    return nums[left]\n",
        "\n",
        "# Example usage:\n",
        "nums = [3, 4, 5, 1, 2]\n",
        "result = findMin(nums)\n",
        "print(result)\n",
        "\n",
        "#TC - O(logn)---------binary Search\n",
        "#SC - O(1)"
      ],
      "metadata": {
        "colab": {
          "base_uri": "https://localhost:8080/"
        },
        "id": "APqtNRb6xqLL",
        "outputId": "126acf29-09fb-44cd-deaf-a6cdc565412c"
      },
      "execution_count": 8,
      "outputs": [
        {
          "output_type": "stream",
          "name": "stdout",
          "text": [
            "1\n"
          ]
        }
      ]
    },
    {
      "cell_type": "code",
      "source": [
        "#question 8\n",
        "from collections import Counter\n",
        "\n",
        "def findOriginalArray(changed):\n",
        "    if len(changed) % 2 != 0:\n",
        "        return []\n",
        "\n",
        "    counter = Counter(changed)      #logn\n",
        "    original = []\n",
        "\n",
        "    for num in sorted(changed):     #nlogn\n",
        "        if counter[num] == 0:\n",
        "            continue\n",
        "\n",
        "        double = num * 2\n",
        "\n",
        "        if counter[double] == 0:\n",
        "            return []\n",
        "\n",
        "        original.append(num)\n",
        "        counter[num] -= 1\n",
        "        counter[double] -= 1\n",
        "\n",
        "    return original\n",
        "\n",
        "# Example usage:\n",
        "changed = [1, 3, 4, 2, 6, 8]\n",
        "result = findOriginalArray(changed)\n",
        "print(result)\n",
        "\n",
        "#TC - O(nlogn)\n",
        "#SC - O(n)"
      ],
      "metadata": {
        "colab": {
          "base_uri": "https://localhost:8080/"
        },
        "id": "tPyZX04vDFud",
        "outputId": "a320f0fa-c5d2-49d2-9799-68364c051daf"
      },
      "execution_count": 12,
      "outputs": [
        {
          "output_type": "stream",
          "name": "stdout",
          "text": [
            "[1, 3, 4]\n"
          ]
        }
      ]
    }
  ]
}